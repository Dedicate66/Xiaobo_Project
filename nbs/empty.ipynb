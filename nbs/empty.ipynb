{
 "cells": [
  {
   "cell_type": "code",
   "execution_count": null,
   "metadata": {},
   "outputs": [],
   "source": [
    "# Noted: the empty.ipynb in work/nbs is not the my code! \n",
    "# My code is in the zip file --> Source Code and Command --> SqarkSQL.ipynb\n",
    "# Thank you!"
   ]
  }
 ],
 "metadata": {
  "language_info": {
   "name": "python"
  }
 },
 "nbformat": 4,
 "nbformat_minor": 2
}
